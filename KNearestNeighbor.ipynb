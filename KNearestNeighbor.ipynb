{
  "nbformat": 4,
  "nbformat_minor": 0,
  "metadata": {
    "colab": {
      "name": "KNearestNeighbor.ipynb",
      "provenance": [],
      "collapsed_sections": []
    },
    "kernelspec": {
      "display_name": "Python 3",
      "name": "python3"
    },
    "accelerator": "TPU"
  },
  "cells": [
    {
      "cell_type": "code",
      "metadata": {
        "id": "UXmOp0Bt5R5p"
      },
      "source": [
        "import pandas as pd\n",
        "import numpy as np\n",
        "import matplotlib.pyplot as plt\n",
        "%matplotlib inline"
      ],
      "execution_count": 86,
      "outputs": []
    },
    {
      "cell_type": "code",
      "metadata": {
        "colab": {
          "base_uri": "https://localhost:8080/",
          "height": 311
        },
        "id": "Z7ueVFpRhF0O",
        "outputId": "7edec4a7-741f-404b-f436-2203fa495782"
      },
      "source": [
        "df = pd.read_csv('Classified_Data',sep=',',index_col= 0)\n",
        "df.sample(9)"
      ],
      "execution_count": 87,
      "outputs": [
        {
          "output_type": "execute_result",
          "data": {
            "text/html": [
              "<div>\n",
              "<style scoped>\n",
              "    .dataframe tbody tr th:only-of-type {\n",
              "        vertical-align: middle;\n",
              "    }\n",
              "\n",
              "    .dataframe tbody tr th {\n",
              "        vertical-align: top;\n",
              "    }\n",
              "\n",
              "    .dataframe thead th {\n",
              "        text-align: right;\n",
              "    }\n",
              "</style>\n",
              "<table border=\"1\" class=\"dataframe\">\n",
              "  <thead>\n",
              "    <tr style=\"text-align: right;\">\n",
              "      <th></th>\n",
              "      <th>WTT</th>\n",
              "      <th>PTI</th>\n",
              "      <th>EQW</th>\n",
              "      <th>SBI</th>\n",
              "      <th>LQE</th>\n",
              "      <th>QWG</th>\n",
              "      <th>FDJ</th>\n",
              "      <th>PJF</th>\n",
              "      <th>HQE</th>\n",
              "      <th>NXJ</th>\n",
              "      <th>TARGET CLASS</th>\n",
              "    </tr>\n",
              "  </thead>\n",
              "  <tbody>\n",
              "    <tr>\n",
              "      <th>601</th>\n",
              "      <td>1.099382</td>\n",
              "      <td>1.533805</td>\n",
              "      <td>1.028192</td>\n",
              "      <td>0.450726</td>\n",
              "      <td>0.672100</td>\n",
              "      <td>0.978098</td>\n",
              "      <td>0.896976</td>\n",
              "      <td>1.442516</td>\n",
              "      <td>1.240282</td>\n",
              "      <td>1.174676</td>\n",
              "      <td>0</td>\n",
              "    </tr>\n",
              "    <tr>\n",
              "      <th>297</th>\n",
              "      <td>0.828678</td>\n",
              "      <td>1.529803</td>\n",
              "      <td>1.017778</td>\n",
              "      <td>0.845642</td>\n",
              "      <td>1.176363</td>\n",
              "      <td>0.887919</td>\n",
              "      <td>1.182898</td>\n",
              "      <td>1.472502</td>\n",
              "      <td>0.923590</td>\n",
              "      <td>1.599667</td>\n",
              "      <td>0</td>\n",
              "    </tr>\n",
              "    <tr>\n",
              "      <th>419</th>\n",
              "      <td>0.924591</td>\n",
              "      <td>0.806335</td>\n",
              "      <td>1.105219</td>\n",
              "      <td>0.239709</td>\n",
              "      <td>1.185549</td>\n",
              "      <td>0.823994</td>\n",
              "      <td>0.943716</td>\n",
              "      <td>1.208891</td>\n",
              "      <td>1.318667</td>\n",
              "      <td>1.392346</td>\n",
              "      <td>0</td>\n",
              "    </tr>\n",
              "    <tr>\n",
              "      <th>155</th>\n",
              "      <td>0.562932</td>\n",
              "      <td>0.994353</td>\n",
              "      <td>0.770925</td>\n",
              "      <td>0.803646</td>\n",
              "      <td>0.994607</td>\n",
              "      <td>1.033093</td>\n",
              "      <td>1.341660</td>\n",
              "      <td>1.519735</td>\n",
              "      <td>1.235743</td>\n",
              "      <td>1.523789</td>\n",
              "      <td>0</td>\n",
              "    </tr>\n",
              "    <tr>\n",
              "      <th>62</th>\n",
              "      <td>1.046707</td>\n",
              "      <td>0.714688</td>\n",
              "      <td>0.767453</td>\n",
              "      <td>0.814669</td>\n",
              "      <td>0.766554</td>\n",
              "      <td>1.000398</td>\n",
              "      <td>1.456723</td>\n",
              "      <td>1.505883</td>\n",
              "      <td>1.309864</td>\n",
              "      <td>1.461480</td>\n",
              "      <td>0</td>\n",
              "    </tr>\n",
              "    <tr>\n",
              "      <th>26</th>\n",
              "      <td>0.855927</td>\n",
              "      <td>0.859602</td>\n",
              "      <td>0.834234</td>\n",
              "      <td>0.905675</td>\n",
              "      <td>1.187995</td>\n",
              "      <td>1.398766</td>\n",
              "      <td>0.907756</td>\n",
              "      <td>0.866683</td>\n",
              "      <td>1.720440</td>\n",
              "      <td>1.428350</td>\n",
              "      <td>1</td>\n",
              "    </tr>\n",
              "    <tr>\n",
              "      <th>109</th>\n",
              "      <td>0.371899</td>\n",
              "      <td>1.105633</td>\n",
              "      <td>1.114064</td>\n",
              "      <td>0.775687</td>\n",
              "      <td>1.252127</td>\n",
              "      <td>0.973179</td>\n",
              "      <td>1.511954</td>\n",
              "      <td>0.989890</td>\n",
              "      <td>1.367257</td>\n",
              "      <td>1.263894</td>\n",
              "      <td>0</td>\n",
              "    </tr>\n",
              "    <tr>\n",
              "      <th>433</th>\n",
              "      <td>0.946160</td>\n",
              "      <td>0.798313</td>\n",
              "      <td>1.028786</td>\n",
              "      <td>0.866488</td>\n",
              "      <td>1.502725</td>\n",
              "      <td>1.066345</td>\n",
              "      <td>1.197103</td>\n",
              "      <td>1.712430</td>\n",
              "      <td>0.949048</td>\n",
              "      <td>1.362814</td>\n",
              "      <td>0</td>\n",
              "    </tr>\n",
              "    <tr>\n",
              "      <th>172</th>\n",
              "      <td>0.594568</td>\n",
              "      <td>1.325248</td>\n",
              "      <td>0.870551</td>\n",
              "      <td>0.794391</td>\n",
              "      <td>1.437815</td>\n",
              "      <td>1.074281</td>\n",
              "      <td>1.110089</td>\n",
              "      <td>1.239892</td>\n",
              "      <td>0.962825</td>\n",
              "      <td>1.634474</td>\n",
              "      <td>0</td>\n",
              "    </tr>\n",
              "  </tbody>\n",
              "</table>\n",
              "</div>"
            ],
            "text/plain": [
              "          WTT       PTI       EQW  ...       HQE       NXJ  TARGET CLASS\n",
              "601  1.099382  1.533805  1.028192  ...  1.240282  1.174676             0\n",
              "297  0.828678  1.529803  1.017778  ...  0.923590  1.599667             0\n",
              "419  0.924591  0.806335  1.105219  ...  1.318667  1.392346             0\n",
              "155  0.562932  0.994353  0.770925  ...  1.235743  1.523789             0\n",
              "62   1.046707  0.714688  0.767453  ...  1.309864  1.461480             0\n",
              "26   0.855927  0.859602  0.834234  ...  1.720440  1.428350             1\n",
              "109  0.371899  1.105633  1.114064  ...  1.367257  1.263894             0\n",
              "433  0.946160  0.798313  1.028786  ...  0.949048  1.362814             0\n",
              "172  0.594568  1.325248  0.870551  ...  0.962825  1.634474             0\n",
              "\n",
              "[9 rows x 11 columns]"
            ]
          },
          "metadata": {
            "tags": []
          },
          "execution_count": 87
        }
      ]
    },
    {
      "cell_type": "markdown",
      "metadata": {
        "id": "6Jj89CqzsRnB"
      },
      "source": [
        "Standardize the Variables\n"
      ]
    },
    {
      "cell_type": "code",
      "metadata": {
        "colab": {
          "base_uri": "https://localhost:8080/"
        },
        "id": "CvlJ2JPihHGz",
        "outputId": "af364f10-ce5e-43d9-b8cb-2e3a5de6bedb"
      },
      "source": [
        "from sklearn.preprocessing import StandardScaler\n",
        "scaler = StandardScaler()\n",
        "scaler.fit(df.drop('TARGET CLASS',axis =1))"
      ],
      "execution_count": 88,
      "outputs": [
        {
          "output_type": "execute_result",
          "data": {
            "text/plain": [
              "StandardScaler(copy=True, with_mean=True, with_std=True)"
            ]
          },
          "metadata": {
            "tags": []
          },
          "execution_count": 88
        }
      ]
    },
    {
      "cell_type": "code",
      "metadata": {
        "colab": {
          "base_uri": "https://localhost:8080/"
        },
        "id": "gyBkBl1ihHEq",
        "outputId": "d48070bb-fe07-4633-82e4-944b98119f07"
      },
      "source": [
        "scaled_features = scaler.transform(df.drop('TARGET CLASS',axis =1))\n",
        "print(scaled_features)"
      ],
      "execution_count": 89,
      "outputs": [
        {
          "output_type": "stream",
          "text": [
            "[[-0.12354188  0.18590747 -0.91343069 ... -1.48236813 -0.9497194\n",
            "  -0.64331425]\n",
            " [-1.08483602 -0.43034845 -1.02531333 ... -0.20224031 -1.82805088\n",
            "   0.63675862]\n",
            " [-0.78870217  0.33931821  0.30151137 ...  0.28570652 -0.68249379\n",
            "  -0.37784986]\n",
            " ...\n",
            " [ 0.64177714 -0.51308341 -0.17920486 ... -2.36249443 -0.81426092\n",
            "   0.11159651]\n",
            " [ 0.46707241 -0.98278576 -1.46519359 ... -0.03677699  0.40602453\n",
            "  -0.85567   ]\n",
            " [-0.38765353 -0.59589427 -1.4313981  ... -0.56778932  0.3369971\n",
            "   0.01034996]]\n"
          ],
          "name": "stdout"
        }
      ]
    },
    {
      "cell_type": "code",
      "metadata": {
        "colab": {
          "base_uri": "https://localhost:8080/"
        },
        "id": "gAcAaSfhhHCN",
        "outputId": "73367582-41fc-4e4c-c00d-12f3ab107d7d"
      },
      "source": [
        "df_features = pd.DataFrame(scaled_features,columns= df.columns[:-1])\n",
        "print(df_features.head())"
      ],
      "execution_count": 90,
      "outputs": [
        {
          "output_type": "stream",
          "text": [
            "        WTT       PTI       EQW  ...       PJF       HQE       NXJ\n",
            "0 -0.123542  0.185907 -0.913431  ... -1.482368 -0.949719 -0.643314\n",
            "1 -1.084836 -0.430348 -1.025313  ... -0.202240 -1.828051  0.636759\n",
            "2 -0.788702  0.339318  0.301511  ...  0.285707 -0.682494 -0.377850\n",
            "3  0.982841  1.060193 -0.621399  ...  1.066491  1.241325 -1.026987\n",
            "4  1.139275 -0.640392 -0.709819  ... -1.472352  1.040772  0.276510\n",
            "\n",
            "[5 rows x 10 columns]\n"
          ],
          "name": "stdout"
        }
      ]
    },
    {
      "cell_type": "markdown",
      "metadata": {
        "id": "tfce5R-WsYEM"
      },
      "source": [
        "\n",
        "Train Test Split"
      ]
    },
    {
      "cell_type": "code",
      "metadata": {
        "id": "-zw1GIpOhG_p"
      },
      "source": [
        "from sklearn.model_selection import train_test_split\n",
        "x_train,x_test,y_train,y_test = train_test_split(scaled_features,df['TARGET CLASS'],test_size = 0.30)"
      ],
      "execution_count": 91,
      "outputs": []
    },
    {
      "cell_type": "markdown",
      "metadata": {
        "id": "ONXdvhONscLx"
      },
      "source": [
        "Importing KNN"
      ]
    },
    {
      "cell_type": "code",
      "metadata": {
        "colab": {
          "base_uri": "https://localhost:8080/"
        },
        "id": "3UPGc9hOhG9F",
        "outputId": "ef7d2840-a9be-4d9f-cd8f-c51bc3e31ca5"
      },
      "source": [
        "from sklearn.neighbors import KNeighborsClassifier\n",
        "knn = KNeighborsClassifier(n_neighbors=1)\n",
        "knn.fit(x_train,y_train)"
      ],
      "execution_count": 92,
      "outputs": [
        {
          "output_type": "execute_result",
          "data": {
            "text/plain": [
              "KNeighborsClassifier(algorithm='auto', leaf_size=30, metric='minkowski',\n",
              "                     metric_params=None, n_jobs=None, n_neighbors=1, p=2,\n",
              "                     weights='uniform')"
            ]
          },
          "metadata": {
            "tags": []
          },
          "execution_count": 92
        }
      ]
    },
    {
      "cell_type": "code",
      "metadata": {
        "id": "NN1JvaHDhG6Y"
      },
      "source": [
        "pred = knn.predict(x_test)"
      ],
      "execution_count": 93,
      "outputs": []
    },
    {
      "cell_type": "markdown",
      "metadata": {
        "id": "XjtKmyocsk44"
      },
      "source": [
        "\n",
        "Predictions and Evaluations"
      ]
    },
    {
      "cell_type": "code",
      "metadata": {
        "colab": {
          "base_uri": "https://localhost:8080/"
        },
        "id": "PgyeARsHhG4L",
        "outputId": "8ce2b9a0-eed6-491f-c9a3-fce9f61b9e72"
      },
      "source": [
        "from sklearn.metrics import classification_report, confusion_matrix\n",
        "print(confusion_matrix(y_test,pred))\n",
        "print(classification_report(y_test,pred))"
      ],
      "execution_count": 94,
      "outputs": [
        {
          "output_type": "stream",
          "text": [
            "[[130  20]\n",
            " [  7 143]]\n",
            "              precision    recall  f1-score   support\n",
            "\n",
            "           0       0.95      0.87      0.91       150\n",
            "           1       0.88      0.95      0.91       150\n",
            "\n",
            "    accuracy                           0.91       300\n",
            "   macro avg       0.91      0.91      0.91       300\n",
            "weighted avg       0.91      0.91      0.91       300\n",
            "\n"
          ],
          "name": "stdout"
        }
      ]
    },
    {
      "cell_type": "markdown",
      "metadata": {
        "id": "72df3_kIspo7"
      },
      "source": [
        "Choosing a K Value  So here We're changing k Value and monitoring Error Rate"
      ]
    },
    {
      "cell_type": "code",
      "metadata": {
        "id": "dRXY4jO3hG2U"
      },
      "source": [
        "error_rate = []\n",
        "for i in range(1, 40):\n",
        "  knn = KNeighborsClassifier(n_neighbors=i)\n",
        "  knn.fit(x_train, y_train)\n",
        "  pred_i = knn.predict(x_test)\n",
        "  error_rate.append(np.mean(pred_i != y_test))"
      ],
      "execution_count": 95,
      "outputs": []
    },
    {
      "cell_type": "code",
      "metadata": {
        "id": "PvD7t1e-hGxM",
        "colab": {
          "base_uri": "https://localhost:8080/",
          "height": 476
        },
        "outputId": "b43446cf-5e41-4651-b6c9-14fa23b2373f"
      },
      "source": [
        "plt.figure(figsize=(11,7))\n",
        "plt.plot(range(1,40),error_rate,color = 'red',linestyle = 'dashed',marker = 'o',\n",
        "         markerfacecolor = 'blue',markersize = 12)\n",
        "plt.title('Error Rate vs  K value')\n",
        "plt.xlabel('K')\n",
        "plt.ylabel('Error Rate')"
      ],
      "execution_count": 96,
      "outputs": [
        {
          "output_type": "execute_result",
          "data": {
            "text/plain": [
              "Text(0, 0.5, 'Error Rate')"
            ]
          },
          "metadata": {
            "tags": []
          },
          "execution_count": 96
        },
        {
          "output_type": "display_data",
          "data": {
            "image/png": "[encoded data removed]",
            "text/plain": [
              "<Figure size 792x504 with 1 Axes>"
            ]
          },
          "metadata": {
            "tags": [],
            "needs_background": "light"
          }
        }
      ]
    },
    {
      "cell_type": "markdown",
      "metadata": {
        "id": "qTG8uvKAs2Xz"
      },
      "source": [
        "With the Best K vale"
      ]
    },
    {
      "cell_type": "code",
      "metadata": {
        "colab": {
          "base_uri": "https://localhost:8080/"
        },
        "id": "gjeLILVbqjC9",
        "outputId": "e0841dca-ed8b-41b9-d688-986547ab7f8e"
      },
      "source": [
        "knn = KNeighborsClassifier(n_neighbors= 11)\n",
        "\n",
        "knn.fit(x_train,y_train)\n",
        "pred = knn.predict(x_test)\n",
        "\n",
        "print('WITH K=23')\n",
        "print('\\n')\n",
        "print(confusion_matrix(y_test,pred))\n",
        "print('\\n')\n",
        "print(classification_report(y_test,pred))"
      ],
      "execution_count": 97,
      "outputs": [
        {
          "output_type": "stream",
          "text": [
            "WITH K=23\n",
            "\n",
            "\n",
            "[[129  21]\n",
            " [  3 147]]\n",
            "\n",
            "\n",
            "              precision    recall  f1-score   support\n",
            "\n",
            "           0       0.98      0.86      0.91       150\n",
            "           1       0.88      0.98      0.92       150\n",
            "\n",
            "    accuracy                           0.92       300\n",
            "   macro avg       0.93      0.92      0.92       300\n",
            "weighted avg       0.93      0.92      0.92       300\n",
            "\n"
          ],
          "name": "stdout"
        }
      ]
    }
  ]
}